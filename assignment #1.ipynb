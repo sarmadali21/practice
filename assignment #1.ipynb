{
 "cells": [
  {
   "cell_type": "code",
   "execution_count": 18,
   "metadata": {},
   "outputs": [
    {
     "name": "stdout",
     "output_type": "stream",
     "text": [
      "Twinkle, twinkle, little star,\n",
      "      How i wonder what you are!\n",
      "            Up above the world so high\n",
      "            Like a dioamond in the sky\n",
      "Twinkle, twinkle, little star,\n",
      "      How i wonder what you are!\n",
      "3.7.3 (default, Apr 24 2019, 15:29:51) [MSC v.1915 64 bit (AMD64)]\n",
      "nowtime= 2019-11-04 00:53:32.141062\n",
      "Please enter the radius of circle 3\n",
      "area of circle is= 28\n",
      "Please enter your first name 12\n",
      "please enter your last name 32\n",
      "32   12\n",
      "enter the first digit1\n",
      "enter the second digit4\n",
      "5\n"
     ]
    }
   ],
   "source": [
    "import sys\n",
    "from datetime import datetime\n",
    "import numpy as np\n",
    "print('Twinkle, twinkle, little star,')\n",
    "print('      How i wonder what you are!')\n",
    "print('            Up above the world so high')\n",
    "print('            Like a dioamond in the sky')\n",
    "print('Twinkle, twinkle, little star,')\n",
    "print('      How i wonder what you are!')\n",
    "print(sys.version)\n",
    "now=datetime.now()\n",
    "print('nowtime=',now)\n",
    "\n",
    "radius=int(input('Please enter the radius of circle '))\n",
    "radii=radius*radius\n",
    "area=int(3.14*radii)\n",
    "print('area of circle is=', area)\n",
    "firstname=input('Please enter your first name ')\n",
    "lastname=input('please enter your last name ')\n",
    "print(lastname,\" \",firstname)\n",
    "\n",
    "addterm1=int(input('enter the first digit '))\n",
    "addterm2=int(input('enter the second digit '))\n",
    "print(addterm1+addterm2)"
   ]
  },
  {
   "cell_type": "code",
   "execution_count": null,
   "metadata": {},
   "outputs": [],
   "source": []
  },
  {
   "cell_type": "code",
   "execution_count": null,
   "metadata": {},
   "outputs": [],
   "source": []
  },
  {
   "cell_type": "code",
   "execution_count": null,
   "metadata": {},
   "outputs": [],
   "source": []
  }
 ],
 "metadata": {
  "kernelspec": {
   "display_name": "Python 3",
   "language": "python",
   "name": "python3"
  }
 },
 "nbformat": 4,
 "nbformat_minor": 2
}
