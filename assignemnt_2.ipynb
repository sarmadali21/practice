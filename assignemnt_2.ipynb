{
 "cells": [
  {
   "cell_type": "code",
   "execution_count": 6,
   "metadata": {},
   "outputs": [
    {
     "name": "stdout",
     "output_type": "stream",
     "text": [
      "enter marks out of 100 for subject 98\n",
      "enter marks out of 100 for subject 98\n",
      "enter marks out of 100 for subject 98\n",
      "enter marks out of 100 for subject 98\n",
      "enter marks out of 100 for subject 98\n",
      "total_marks = 490\n",
      "percentage= 89.0909090909091\n",
      "grade B\n",
      "enter the number you want to check87\n",
      "odd number\n",
      "the length of the given list is 4\n",
      "sum of the list= 54\n",
      "maximum num in list is = 15\n",
      "1\n",
      "2\n",
      "3\n"
     ]
    }
   ],
   "source": [
    "marks=[]\n",
    "totalmarks=0\n",
    "for i in range (5):\n",
    "\tx=int(input(\"enter marks out of 100 for subject \"))\n",
    "\tmarks.append(x)\n",
    "\ttotalmarks=totalmarks+x\n",
    "\t\n",
    "print(\"total_marks =\", totalmarks)\n",
    "percentage=(totalmarks*100)/550\n",
    "print(\"percentage=\", percentage)\n",
    "if percentage>=90:\n",
    "\tprint(\"grade A\")\n",
    "elif percentage>=80:\n",
    "\tprint('grade B')\n",
    "elif percentage>=70:\n",
    "\tprint('grade C')\n",
    "elif percentage>=60:\n",
    "\tprint('grade D')\n",
    "else:\n",
    "\tprint('failed, try again')\n",
    "\t\n",
    "#question 2\n",
    "\n",
    "x=int(input('enter the number you want to check'))\n",
    "if x%2==0:\n",
    "\tprint('given number ', x, ' is an even number')\n",
    "else:\n",
    "\tprint('odd number')\n",
    "\t\n",
    "#question 3\n",
    "listed=[12,13,14,15]\n",
    "print('the length of the given list is', len(listed))\n",
    "\n",
    "#question 4\n",
    "listed=[12,13,14,15]\n",
    "a=len(listed)\n",
    "sum=0\n",
    "for i in range (a):\n",
    "\tsum=sum+listed[i]\n",
    "print('sum of the list=', sum)\n",
    "\n",
    "##question 5\n",
    "\n",
    "listed=[12,13,14,15]\n",
    "print('maximum num in list is =', max(listed))\n",
    "\n",
    "#question 6\n",
    "listed=[1,2,3,14,19,34,55]\n",
    "x=len(listed)\n",
    "for i in range(x):\n",
    "\tif listed[i]<5:\n",
    "\t\tprint(listed[i])"
   ]
  },
  {
   "cell_type": "code",
   "execution_count": null,
   "metadata": {},
   "outputs": [],
   "source": []
  },
  {
   "cell_type": "code",
   "execution_count": null,
   "metadata": {},
   "outputs": [],
   "source": []
  }
 ],
 "metadata": {
  "kernelspec": {
   "display_name": "Python 3",
   "language": "python",
   "name": "python3"
  },
  "language_info": {
   "codemirror_mode": {
    "name": "ipython",
    "version": 3
   },
   "file_extension": ".py",
   "mimetype": "text/x-python",
   "name": "python",
   "nbconvert_exporter": "python",
   "pygments_lexer": "ipython3",
   "version": "3.7.3"
  }
 },
 "nbformat": 4,
 "nbformat_minor": 2
}
